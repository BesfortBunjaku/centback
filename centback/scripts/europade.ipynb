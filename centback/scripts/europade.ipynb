{
 "cells": [
  {
   "cell_type": "markdown",
   "metadata": {},
   "source": [
    "📁 Resources"
   ]
  },
  {
   "cell_type": "code",
   "execution_count": 1,
   "metadata": {},
   "outputs": [
    {
     "name": "stderr",
     "output_type": "stream",
     "text": [
      "c:\\Users\\besff\\AppData\\Local\\pypoetry\\Cache\\virtualenvs\\centback-nvo6Z_mp-py3.11\\Lib\\site-packages\\tqdm\\auto.py:21: TqdmWarning: IProgress not found. Please update jupyter and ipywidgets. See https://ipywidgets.readthedocs.io/en/stable/user_install.html\n",
      "  from .autonotebook import tqdm as notebook_tqdm\n"
     ]
    }
   ],
   "source": [
    "import pandas as pd\n",
    "import time\n",
    "import random\n",
    "import dataextension as dx\n",
    "import requests\n",
    "# from pandasgui import show\n",
    "from config.settings import DATA_DIR\n",
    "from config.settings import URLS_DIR\n",
    "import emailaddress\n",
    "\n",
    "\n",
    "keywords = pd.read_csv(rf\"{DATA_DIR}keywords.csv\")[\"selection\"].dropna().tolist()\n",
    "bannedwords = pd.read_csv(rf\"{DATA_DIR}bannedwords.csv\")[\"job_title_de\"].dropna().to_list()"
   ]
  },
  {
   "cell_type": "markdown",
   "metadata": {},
   "source": [
    "📁 Load links"
   ]
  },
  {
   "cell_type": "code",
   "execution_count": 2,
   "metadata": {},
   "outputs": [],
   "source": [
    "\n",
    "links  = pd.read_csv(rf\"{URLS_DIR}europade_urls.csv\")\n",
    "df = links[[\"url\",\"data\",\"headers\"]][:10000]\n",
    "df.to_csv(rf\"{DATA_DIR}europade.csv\",index=False)"
   ]
  },
  {
   "attachments": {},
   "cell_type": "markdown",
   "metadata": {},
   "source": [
    "📁 Generate initial content"
   ]
  },
  {
   "cell_type": "code",
   "execution_count": 3,
   "metadata": {},
   "outputs": [
    {
     "name": "stderr",
     "output_type": "stream",
     "text": [
      "Initial Content: 100%|\u001b[33m██████████\u001b[0m| 10000/10000 [8:03:36<00:00,  2.90s/it]  \n"
     ]
    }
   ],
   "source": [
    "\n",
    "def icontent(row):\n",
    "    time.sleep(random.randint(1,3))\n",
    "    response = requests.post(row[\"url\"], json=eval(row[\"data\"]), headers=eval(row[\"headers\"]))\n",
    "    return str(response.json()['jvs'])\n",
    " \n",
    "    \n",
    "df = pd.read_csv(rf\"{DATA_DIR}europade.csv\")\n",
    "df = df.insertone(with_func=icontent,column_name='icontent', description=\"Initial Content\")\n",
    "df.to_csv(rf\"{DATA_DIR}europade.csv\",index=False)\n",
    "df.to_csv(rf\"{DATA_DIR}europade_backup.csv\",index=False)"
   ]
  },
  {
   "cell_type": "markdown",
   "metadata": {},
   "source": [
    "📁 Convert icontent to list"
   ]
  },
  {
   "cell_type": "code",
   "execution_count": 4,
   "metadata": {},
   "outputs": [
    {
     "name": "stderr",
     "output_type": "stream",
     "text": [
      "Initial Content: 100%|\u001b[33m██████████\u001b[0m| 10000/10000 [00:00<00:00, 187074.51it/s]"
     ]
    },
    {
     "name": "stdout",
     "output_type": "stream",
     "text": [
      "<class 'pandas.core.frame.DataFrame'>\n",
      "RangeIndex: 0 entries\n",
      "Data columns (total 4 columns):\n",
      " #   Column    Non-Null Count  Dtype \n",
      "---  ------    --------------  ----- \n",
      " 0   url       0 non-null      object\n",
      " 1   data      0 non-null      object\n",
      " 2   headers   0 non-null      object\n",
      " 3   icontent  0 non-null      object\n",
      "dtypes: object(4)\n",
      "memory usage: 132.0+ bytes\n"
     ]
    },
    {
     "name": "stderr",
     "output_type": "stream",
     "text": [
      "\n"
     ]
    }
   ],
   "source": [
    "\n",
    "def convert_to_list(x):\n",
    "    return eval(x)\n",
    " \n",
    "df = pd.read_csv(rf\"{DATA_DIR}europade.csv\")\n",
    "df[\"icontent\"] = df[\"icontent\"].progress_apply(convert_to_list)\n",
    "df = df[df[\"icontent\"].apply(lambda x: not dx.is_blank(x))]\n",
    "df = df.explode(\"icontent\",ignore_index=True)\n",
    "df.to_csv(rf\"{DATA_DIR}europade.csv\",index=False)\n",
    "df.info()\n",
    " "
   ]
  },
  {
   "attachments": {},
   "cell_type": "markdown",
   "metadata": {},
   "source": [
    "📁 Extract Job Title de"
   ]
  },
  {
   "cell_type": "code",
   "execution_count": 5,
   "metadata": {},
   "outputs": [
    {
     "name": "stderr",
     "output_type": "stream",
     "text": [
      "job_title_de: 1it [00:00, ?it/s]\n"
     ]
    }
   ],
   "source": [
    "\n",
    "def job_title_de(row): \n",
    "    return eval(row[\"icontent\"])[\"title\"]\n",
    "\n",
    "df = pd.read_csv(rf\"{DATA_DIR}europade.csv\")\n",
    "df = df.insertone(with_func=job_title_de,column_name='job_title_de', description=\"job_title_de\")\n",
    "df.to_csv(rf\"{DATA_DIR}europade.csv\",index=False)"
   ]
  },
  {
   "attachments": {},
   "cell_type": "markdown",
   "metadata": {},
   "source": [
    "📁 Select positive Job Title de"
   ]
  },
  {
   "cell_type": "code",
   "execution_count": 6,
   "metadata": {},
   "outputs": [
    {
     "ename": "KeyError",
     "evalue": "'job_title_de'",
     "output_type": "error",
     "traceback": [
      "\u001b[1;31m---------------------------------------------------------------------------\u001b[0m",
      "\u001b[1;31mKeyError\u001b[0m                                  Traceback (most recent call last)",
      "File \u001b[1;32mc:\\Users\\besff\\AppData\\Local\\pypoetry\\Cache\\virtualenvs\\centback-nvo6Z_mp-py3.11\\Lib\\site-packages\\pandas\\core\\indexes\\base.py:3790\u001b[0m, in \u001b[0;36mIndex.get_loc\u001b[1;34m(self, key)\u001b[0m\n\u001b[0;32m   3789\u001b[0m \u001b[39mtry\u001b[39;00m:\n\u001b[1;32m-> 3790\u001b[0m     \u001b[39mreturn\u001b[39;00m \u001b[39mself\u001b[39;49m\u001b[39m.\u001b[39;49m_engine\u001b[39m.\u001b[39;49mget_loc(casted_key)\n\u001b[0;32m   3791\u001b[0m \u001b[39mexcept\u001b[39;00m \u001b[39mKeyError\u001b[39;00m \u001b[39mas\u001b[39;00m err:\n",
      "File \u001b[1;32mindex.pyx:152\u001b[0m, in \u001b[0;36mpandas._libs.index.IndexEngine.get_loc\u001b[1;34m()\u001b[0m\n",
      "File \u001b[1;32mindex.pyx:181\u001b[0m, in \u001b[0;36mpandas._libs.index.IndexEngine.get_loc\u001b[1;34m()\u001b[0m\n",
      "File \u001b[1;32mpandas\\_libs\\hashtable_class_helper.pxi:7080\u001b[0m, in \u001b[0;36mpandas._libs.hashtable.PyObjectHashTable.get_item\u001b[1;34m()\u001b[0m\n",
      "File \u001b[1;32mpandas\\_libs\\hashtable_class_helper.pxi:7088\u001b[0m, in \u001b[0;36mpandas._libs.hashtable.PyObjectHashTable.get_item\u001b[1;34m()\u001b[0m\n",
      "\u001b[1;31mKeyError\u001b[0m: 'job_title_de'",
      "\nThe above exception was the direct cause of the following exception:\n",
      "\u001b[1;31mKeyError\u001b[0m                                  Traceback (most recent call last)",
      "\u001b[1;32mc:\\Users\\besff\\OneDrive\\Documents\\GitHub\\centback\\centback\\scripts\\europade.ipynb Cell 12\u001b[0m line \u001b[0;36m2\n\u001b[0;32m      <a href='vscode-notebook-cell:/c%3A/Users/besff/OneDrive/Documents/GitHub/centback/centback/scripts/europade.ipynb#X14sZmlsZQ%3D%3D?line=0'>1</a>\u001b[0m df \u001b[39m=\u001b[39m pd\u001b[39m.\u001b[39mread_csv(\u001b[39mrf\u001b[39m\u001b[39m\"\u001b[39m\u001b[39m{\u001b[39;00mDATA_DIR\u001b[39m}\u001b[39;00m\u001b[39meuropade.csv\u001b[39m\u001b[39m\"\u001b[39m)\n\u001b[1;32m----> <a href='vscode-notebook-cell:/c%3A/Users/besff/OneDrive/Documents/GitHub/centback/centback/scripts/europade.ipynb#X14sZmlsZQ%3D%3D?line=1'>2</a>\u001b[0m df \u001b[39m=\u001b[39m df\u001b[39m.\u001b[39;49mselect_positive(words\u001b[39m=\u001b[39;49mkeywords)\n\u001b[0;32m      <a href='vscode-notebook-cell:/c%3A/Users/besff/OneDrive/Documents/GitHub/centback/centback/scripts/europade.ipynb#X14sZmlsZQ%3D%3D?line=2'>3</a>\u001b[0m df\u001b[39m.\u001b[39mto_csv(\u001b[39mrf\u001b[39m\u001b[39m\"\u001b[39m\u001b[39m{\u001b[39;00mDATA_DIR\u001b[39m}\u001b[39;00m\u001b[39meuropade.csv\u001b[39m\u001b[39m\"\u001b[39m,index\u001b[39m=\u001b[39m\u001b[39mFalse\u001b[39;00m)\n",
      "File \u001b[1;32mc:\\Users\\besff\\AppData\\Local\\pypoetry\\Cache\\virtualenvs\\centback-nvo6Z_mp-py3.11\\Lib\\site-packages\\pandas_flavor\\register.py:153\u001b[0m, in \u001b[0;36mregister_dataframe_method.<locals>.inner.<locals>.AccessorMethod.__call__\u001b[1;34m(self, *args, **kwargs)\u001b[0m\n\u001b[0;32m    151\u001b[0m \u001b[39mglobal\u001b[39;00m method_call_ctx_factory\n\u001b[0;32m    152\u001b[0m \u001b[39mif\u001b[39;00m method_call_ctx_factory \u001b[39mis\u001b[39;00m \u001b[39mNone\u001b[39;00m:\n\u001b[1;32m--> 153\u001b[0m     \u001b[39mreturn\u001b[39;00m method(\u001b[39mself\u001b[39;49m\u001b[39m.\u001b[39;49m_obj, \u001b[39m*\u001b[39;49margs, \u001b[39m*\u001b[39;49m\u001b[39m*\u001b[39;49mkwargs)\n\u001b[0;32m    155\u001b[0m \u001b[39mreturn\u001b[39;00m handle_pandas_extension_call(\n\u001b[0;32m    156\u001b[0m     method, method_signature, \u001b[39mself\u001b[39m\u001b[39m.\u001b[39m_obj, args, kwargs\n\u001b[0;32m    157\u001b[0m )\n",
      "File \u001b[1;32mc:\\Users\\besff\\AppData\\Local\\pypoetry\\Cache\\virtualenvs\\centback-nvo6Z_mp-py3.11\\Lib\\site-packages\\dataextension\\dx.py:292\u001b[0m, in \u001b[0;36mselect_positive\u001b[1;34m(df, words, column_name)\u001b[0m\n\u001b[0;32m    280\u001b[0m \u001b[39m@pf\u001b[39m\u001b[39m.\u001b[39mregister_dataframe_method\n\u001b[0;32m    281\u001b[0m \u001b[39mdef\u001b[39;00m \u001b[39mselect_positive\u001b[39m(df, words: \u001b[39mlist\u001b[39m, column_name: \u001b[39mstr\u001b[39m \u001b[39m=\u001b[39m \u001b[39m\"\u001b[39m\u001b[39mjob_title_de\u001b[39m\u001b[39m\"\u001b[39m):\n\u001b[0;32m    282\u001b[0m \u001b[39m    \u001b[39m\u001b[39m\"\"\"Select rows that contain a word in a column, case insensitive\u001b[39;00m\n\u001b[0;32m    283\u001b[0m \n\u001b[0;32m    284\u001b[0m \u001b[39m    Args:\u001b[39;00m\n\u001b[1;32m   (...)\u001b[0m\n\u001b[0;32m    290\u001b[0m \u001b[39m        (Dataframe):  Dataframe with rows that contain a word in a column\u001b[39;00m\n\u001b[0;32m    291\u001b[0m \u001b[39m    \"\"\"\u001b[39;00m\n\u001b[1;32m--> 292\u001b[0m     df \u001b[39m=\u001b[39m df[df[column_name]\u001b[39m.\u001b[39mstr\u001b[39m.\u001b[39mcontains(\u001b[39m\"\u001b[39m\u001b[39m|\u001b[39m\u001b[39m\"\u001b[39m\u001b[39m.\u001b[39mjoin(words), case\u001b[39m=\u001b[39m\u001b[39mFalse\u001b[39;00m)]\n\u001b[0;32m    293\u001b[0m     \u001b[39mreturn\u001b[39;00m df\n",
      "File \u001b[1;32mc:\\Users\\besff\\AppData\\Local\\pypoetry\\Cache\\virtualenvs\\centback-nvo6Z_mp-py3.11\\Lib\\site-packages\\pandas\\core\\frame.py:3896\u001b[0m, in \u001b[0;36mDataFrame.__getitem__\u001b[1;34m(self, key)\u001b[0m\n\u001b[0;32m   3894\u001b[0m \u001b[39mif\u001b[39;00m \u001b[39mself\u001b[39m\u001b[39m.\u001b[39mcolumns\u001b[39m.\u001b[39mnlevels \u001b[39m>\u001b[39m \u001b[39m1\u001b[39m:\n\u001b[0;32m   3895\u001b[0m     \u001b[39mreturn\u001b[39;00m \u001b[39mself\u001b[39m\u001b[39m.\u001b[39m_getitem_multilevel(key)\n\u001b[1;32m-> 3896\u001b[0m indexer \u001b[39m=\u001b[39m \u001b[39mself\u001b[39;49m\u001b[39m.\u001b[39;49mcolumns\u001b[39m.\u001b[39;49mget_loc(key)\n\u001b[0;32m   3897\u001b[0m \u001b[39mif\u001b[39;00m is_integer(indexer):\n\u001b[0;32m   3898\u001b[0m     indexer \u001b[39m=\u001b[39m [indexer]\n",
      "File \u001b[1;32mc:\\Users\\besff\\AppData\\Local\\pypoetry\\Cache\\virtualenvs\\centback-nvo6Z_mp-py3.11\\Lib\\site-packages\\pandas\\core\\indexes\\base.py:3797\u001b[0m, in \u001b[0;36mIndex.get_loc\u001b[1;34m(self, key)\u001b[0m\n\u001b[0;32m   3792\u001b[0m     \u001b[39mif\u001b[39;00m \u001b[39misinstance\u001b[39m(casted_key, \u001b[39mslice\u001b[39m) \u001b[39mor\u001b[39;00m (\n\u001b[0;32m   3793\u001b[0m         \u001b[39misinstance\u001b[39m(casted_key, abc\u001b[39m.\u001b[39mIterable)\n\u001b[0;32m   3794\u001b[0m         \u001b[39mand\u001b[39;00m \u001b[39many\u001b[39m(\u001b[39misinstance\u001b[39m(x, \u001b[39mslice\u001b[39m) \u001b[39mfor\u001b[39;00m x \u001b[39min\u001b[39;00m casted_key)\n\u001b[0;32m   3795\u001b[0m     ):\n\u001b[0;32m   3796\u001b[0m         \u001b[39mraise\u001b[39;00m InvalidIndexError(key)\n\u001b[1;32m-> 3797\u001b[0m     \u001b[39mraise\u001b[39;00m \u001b[39mKeyError\u001b[39;00m(key) \u001b[39mfrom\u001b[39;00m \u001b[39merr\u001b[39;00m\n\u001b[0;32m   3798\u001b[0m \u001b[39mexcept\u001b[39;00m \u001b[39mTypeError\u001b[39;00m:\n\u001b[0;32m   3799\u001b[0m     \u001b[39m# If we have a listlike key, _check_indexing_error will raise\u001b[39;00m\n\u001b[0;32m   3800\u001b[0m     \u001b[39m#  InvalidIndexError. Otherwise we fall through and re-raise\u001b[39;00m\n\u001b[0;32m   3801\u001b[0m     \u001b[39m#  the TypeError.\u001b[39;00m\n\u001b[0;32m   3802\u001b[0m     \u001b[39mself\u001b[39m\u001b[39m.\u001b[39m_check_indexing_error(key)\n",
      "\u001b[1;31mKeyError\u001b[0m: 'job_title_de'"
     ]
    }
   ],
   "source": [
    "df = pd.read_csv(rf\"{DATA_DIR}europade.csv\")\n",
    "df = df.select_positive(words=keywords)\n",
    "df.to_csv(rf\"{DATA_DIR}europade.csv\",index=False)"
   ]
  },
  {
   "attachments": {},
   "cell_type": "markdown",
   "metadata": {},
   "source": [
    "📁 Delete Negative Job Title de"
   ]
  },
  {
   "cell_type": "code",
   "execution_count": null,
   "metadata": {},
   "outputs": [],
   "source": [
    "df = pd.read_csv(rf\"{DATA_DIR}europade.csv\")\n",
    "df = df.delete_negative(words=bannedwords)\n",
    "df.to_csv(rf\"{DATA_DIR}europade.csv\",index=False)"
   ]
  },
  {
   "attachments": {},
   "cell_type": "markdown",
   "metadata": {},
   "source": [
    "📁 Get Company Name \"company_name\""
   ]
  },
  {
   "cell_type": "code",
   "execution_count": null,
   "metadata": {},
   "outputs": [],
   "source": [
    "def company_name(row):\n",
    "    return eval(row['icontent'])['employer']['name']\n",
    "\n",
    "df = pd.read_csv(rf\"{DATA_DIR}europade.csv\")\n",
    "df = df.insertone(with_func=company_name,column_name='company_name', description=\"company_name\")\n",
    "df.to_csv(rf\"{DATA_DIR}europade.csv\",index=False)"
   ]
  },
  {
   "cell_type": "markdown",
   "metadata": {},
   "source": [
    "📁 Drop duplicates base on \"company_name\" and \"job_title\""
   ]
  },
  {
   "cell_type": "code",
   "execution_count": null,
   "metadata": {},
   "outputs": [],
   "source": [
    "df = pd.read_csv(rf\"{DATA_DIR}europade.csv\")\n",
    "df = df.drop_duplicates(subset=['company_name','job_title_de'],keep='first')\n",
    "df.to_csv(rf\"{DATA_DIR}europade.csv\",index=False)"
   ]
  },
  {
   "cell_type": "markdown",
   "metadata": {},
   "source": [
    "📁 Extract Job Title EN \"job_title_en\""
   ]
  },
  {
   "cell_type": "code",
   "execution_count": null,
   "metadata": {},
   "outputs": [],
   "source": [
    "df = pd.read_csv(rf\"{DATA_DIR}europade.csv\")\n",
    "df['job_title_en'] = df['job_title_de']\n",
    "df.to_csv(rf\"{DATA_DIR}europade.csv\",index=False)"
   ]
  },
  {
   "attachments": {},
   "cell_type": "markdown",
   "metadata": {},
   "source": [
    "📁 Get Source url \"source_url\""
   ]
  },
  {
   "cell_type": "code",
   "execution_count": null,
   "metadata": {},
   "outputs": [],
   "source": [
    "def source_url(row):\n",
    "    jobid =  eval(row['icontent'])['id']\n",
    "    return f\"https://ec.europa.eu/eures/portal/jv-se/jv-details/{jobid}?jvDisplayLanguage=de&lang=en\"\n",
    "   \n",
    "df = pd.read_csv(rf\"{DATA_DIR}europade.csv\")\n",
    "df = df.insertone(with_func=source_url,column_name='source_url', description=\"source_url\")\n",
    "df.to_csv(rf\"{DATA_DIR}europade.csv\",index=False)"
   ]
  },
  {
   "cell_type": "markdown",
   "metadata": {},
   "source": [
    "📁 Get json Source url \"jsource_url\""
   ]
  },
  {
   "cell_type": "code",
   "execution_count": null,
   "metadata": {},
   "outputs": [],
   "source": [
    "def jsource_url(row):\n",
    "    jobid =  eval(row['icontent'])['id']\n",
    "    return f\"https://ec.europa.eu/eures/eures-apps/searchengine/page/jv/id/{jobid}?lang=en\"\n",
    "   \n",
    "df = pd.read_csv(rf\"{DATA_DIR}europade.csv\")\n",
    "df = df.insertone(with_func=jsource_url,column_name='jsource_url', description=\"jsource_url\")\n",
    "df.to_csv(rf\"{DATA_DIR}europade.csv\",index=False)"
   ]
  },
  {
   "attachments": {},
   "cell_type": "markdown",
   "metadata": {},
   "source": [
    "📁 Get Job Description DE \"job_description_de\""
   ]
  },
  {
   "cell_type": "code",
   "execution_count": null,
   "metadata": {},
   "outputs": [],
   "source": [
    "def job_description_de(row): \n",
    "    return eval(row[\"icontent\"])[\"description\"]\n",
    "    \n",
    "df = pd.read_csv(rf\"{DATA_DIR}europade.csv\")\n",
    "df = df.insertone(with_func=job_description_de,column_name='job_description_de', description=\"job_description_de\")\n",
    "df.to_csv(rf\"{DATA_DIR}europade.csv\",index=False)"
   ]
  },
  {
   "cell_type": "markdown",
   "metadata": {},
   "source": [
    "📁 Get Job Description EN \"job_description_en\""
   ]
  },
  {
   "cell_type": "code",
   "execution_count": null,
   "metadata": {},
   "outputs": [],
   "source": [
    "df = pd.read_csv(rf\"{DATA_DIR}europade.csv\")\n",
    "df['job_description_en'] = df['job_description_de']\n",
    "df.to_csv(rf\"{DATA_DIR}europade.csv\",index=False)"
   ]
  },
  {
   "attachments": {},
   "cell_type": "markdown",
   "metadata": {},
   "source": [
    "📁 Get employment_type \"job_employment_type\""
   ]
  },
  {
   "cell_type": "code",
   "execution_count": null,
   "metadata": {},
   "outputs": [],
   "source": [
    "def employment_type(row): \n",
    "    return eval(row['icontent'])['positionScheduleCodes'][0]\n",
    "     \n",
    "df = pd.read_csv(rf\"{DATA_DIR}europade.csv\")\n",
    "df = df.insertone(with_func=employment_type,column_name='employment_type', description=\"employment_type\")\n",
    "df.to_csv(rf\"{DATA_DIR}europade.csv\",index=False)"
   ]
  },
  {
   "cell_type": "markdown",
   "metadata": {},
   "source": [
    "📁 Get Company Website \"company_website\""
   ]
  },
  {
   "cell_type": "code",
   "execution_count": null,
   "metadata": {},
   "outputs": [],
   "source": [
    "def company_website(row):\n",
    "    return eval(row['icontent'])['employer']['website']\n",
    "  \n",
    "df = pd.read_csv(rf\"{DATA_DIR}europade.csv\")\n",
    "df = df.insertone(with_func=company_website,column_name='company_website', description=\"company_website\")\n",
    "df.to_csv(rf\"{DATA_DIR}europade.csv\",index=False)"
   ]
  },
  {
   "cell_type": "markdown",
   "metadata": {},
   "source": [
    "📁 Get Get second page json content \"jcontent\""
   ]
  },
  {
   "cell_type": "code",
   "execution_count": null,
   "metadata": {},
   "outputs": [],
   "source": [
    "def jcontent(row):\n",
    "    time.sleep(random.randint(1,3))\n",
    "    response = requests.get(row[\"jsource_url\"])\n",
    "    return str(response.json())\n",
    " \n",
    "    \n",
    "df = pd.read_csv(rf\"{DATA_DIR}europade.csv\")\n",
    "df = df.insertone(with_func=jcontent,column_name='jcontent', description=\"jcontent\")\n",
    "df.to_csv(rf\"{DATA_DIR}europade.csv\",index=False)\n",
    "df.to_csv(rf\"{DATA_DIR}europade_backup.csv\",index=False)"
   ]
  },
  {
   "cell_type": "markdown",
   "metadata": {},
   "source": [
    "📁 Get City \"city\""
   ]
  },
  {
   "cell_type": "code",
   "execution_count": null,
   "metadata": {},
   "outputs": [],
   "source": [
    "def city(row):\n",
    "    return eval(row['jcontent'])['jvProfiles']['de']['locations'][0]['cityName']\n",
    "  \n",
    "df = pd.read_csv(rf\"{DATA_DIR}europade.csv\")\n",
    "df = df.insertone(with_func=city,column_name='city', description=\"city\")\n",
    "df.to_csv(rf\"{DATA_DIR}europade.csv\",index=False)"
   ]
  },
  {
   "cell_type": "markdown",
   "metadata": {},
   "source": [
    "📁 Get Full Name \"full_name\""
   ]
  },
  {
   "cell_type": "code",
   "execution_count": null,
   "metadata": {},
   "outputs": [],
   "source": [
    "def full_name(row):\n",
    "    first_name = eval(row['jcontent'])['jvProfiles']['de']['personContacts'][0].get('givenName','')\n",
    "    last_name = eval(row['jcontent'])['jvProfiles']['de']['personContacts'][0].get('familyName','')\n",
    "    return f\"{first_name} {last_name}\"\n",
    "  \n",
    "df = pd.read_csv(rf\"{DATA_DIR}europade.csv\")\n",
    "df = df.insertone(with_func=full_name,column_name='full_name', description=\"full_name\")\n",
    "df.to_csv(rf\"{DATA_DIR}europade.csv\",index=False)"
   ]
  },
  {
   "cell_type": "markdown",
   "metadata": {},
   "source": [
    "📁 Get contact_email \"contact_email\""
   ]
  },
  {
   "cell_type": "code",
   "execution_count": null,
   "metadata": {},
   "outputs": [],
   "source": [
    "def contact_email(row):\n",
    "    email = emailaddress.from_text(text=row['job_description_de'])\n",
    "    if email:\n",
    "        return email[0]\n",
    "  \n",
    "df = pd.read_csv(rf\"{DATA_DIR}europade.csv\")\n",
    "df = df.insertone(with_func=contact_email,column_name='contact_email', description=\"contact_email\")\n",
    "df.to_csv(rf\"{DATA_DIR}europade.csv\",index=False)\n",
    "df.info()"
   ]
  }
 ],
 "metadata": {
  "kernelspec": {
   "display_name": "datagenerator-JFVW2euX-py3.11",
   "language": "python",
   "name": "python3"
  },
  "language_info": {
   "codemirror_mode": {
    "name": "ipython",
    "version": 3
   },
   "file_extension": ".py",
   "mimetype": "text/x-python",
   "name": "python",
   "nbconvert_exporter": "python",
   "pygments_lexer": "ipython3",
   "version": "3.11.2"
  },
  "orig_nbformat": 4
 },
 "nbformat": 4,
 "nbformat_minor": 2
}
