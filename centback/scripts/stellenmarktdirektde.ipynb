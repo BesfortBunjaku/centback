{
 "cells": [
  {
   "cell_type": "markdown",
   "metadata": {},
   "source": [
    "📁 Resources"
   ]
  },
  {
   "cell_type": "code",
   "execution_count": 23,
   "metadata": {},
   "outputs": [],
   "source": [
    "import pandas as pd\n",
    "import time\n",
    "import random\n",
    "import dataextension as dx\n",
    "import pandas_flavor as pf\n",
    "import requests\n",
    "# from pandasgui import show\n",
    "from config.settings import DATA_DIR\n",
    "from config.settings import URLS_DIR\n",
    "import emailaddress\n",
    "from bs4 import BeautifulSoup\n",
    "\n",
    "\n",
    "keywords = pd.read_csv(rf\"{DATA_DIR}keywords.csv\")[\"selection\"].dropna().tolist()\n",
    "bannedwords = pd.read_csv(rf\"{DATA_DIR}bannedwords.csv\")[\"job_title_de\"].dropna().to_list()"
   ]
  },
  {
   "cell_type": "markdown",
   "metadata": {},
   "source": [
    "📁 Load links"
   ]
  },
  {
   "cell_type": "code",
   "execution_count": 24,
   "metadata": {},
   "outputs": [],
   "source": [
    "\n",
    "links  = pd.read_csv(rf\"{URLS_DIR}stellenmarktdirektde_urls.csv\")\n",
    "df = links[[\"url\",\"headers\"]][:2]\n",
    "df.to_csv(rf\"{DATA_DIR}stellenmarktdirektde.csv\",index=False)"
   ]
  },
  {
   "attachments": {},
   "cell_type": "markdown",
   "metadata": {},
   "source": [
    "📁 Generate initial content"
   ]
  },
  {
   "cell_type": "code",
   "execution_count": 25,
   "metadata": {},
   "outputs": [
    {
     "name": "stderr",
     "output_type": "stream",
     "text": [
      "Initial content: 100%|\u001b[33m██████████\u001b[0m| 2/2 [01:24<00:00, 42.06s/it]\n"
     ]
    }
   ],
   "source": [
    "\n",
    "def icontent(row):\n",
    "    # time.sleep(random.randint(1,3))\n",
    "    response = requests.get(row[\"url\"],headers=eval(row[\"headers\"]))\n",
    "    bs = BeautifulSoup(response.content,\"lxml\")\n",
    "    return bs.find_all(\"div\",{\"class\":\"item\"})\n",
    " \n",
    "    \n",
    "df = pd.read_csv(rf\"{DATA_DIR}stellenmarktdirektde.csv\")\n",
    "df = df.insertone(with_func=icontent,column_name=\"icontent\", errors=True, description=\"Initial content\")\n",
    "df.to_csv(rf\"{DATA_DIR}stellenmarktdirektde.csv\",index=False)\n",
    "# df.to_csv(rf\"{DATA_DIR}stellenmarktdirektde_backup.csv\",index=False)"
   ]
  },
  {
   "cell_type": "markdown",
   "metadata": {},
   "source": [
    "📁 Convert icontent to list"
   ]
  },
  {
   "cell_type": "code",
   "execution_count": 26,
   "metadata": {},
   "outputs": [
    {
     "name": "stderr",
     "output_type": "stream",
     "text": [
      "Initial content: 0it [00:00, ?it/s]"
     ]
    },
    {
     "name": "stdout",
     "output_type": "stream",
     "text": [
      "<class 'pandas.core.frame.DataFrame'>\n",
      "RangeIndex: 0 entries\n",
      "Data columns (total 3 columns):\n",
      " #   Column    Non-Null Count  Dtype \n",
      "---  ------    --------------  ----- \n",
      " 0   url       0 non-null      object\n",
      " 1   headers   0 non-null      object\n",
      " 2   icontent  0 non-null      object\n",
      "dtypes: object(3)\n",
      "memory usage: 132.0+ bytes\n"
     ]
    },
    {
     "name": "stderr",
     "output_type": "stream",
     "text": [
      "\n"
     ]
    }
   ],
   "source": [
    "import json\n",
    "import ast\n",
    "import re\n",
    "def convert_to_list(x):\n",
    "    print(type(x))\n",
    "    if not dx.is_blank(x):\n",
    "        return eval(x)\n",
    "    return x\n",
    "\n",
    "df = pd.read_csv(rf\"{DATA_DIR}stellenmarktdirektde.csv\")\n",
    "df = df.astype('object')\n",
    "df = df[df[\"icontent\"].apply(lambda x: not dx.is_blank(x))]\n",
    "df[\"icontent\"] = df[\"icontent\"].progress_apply(convert_to_list)\n",
    "df = df.explode(\"icontent\",ignore_index=True)\n",
    "# df.to_csv(rf\"{DATA_DIR}stellenmarktdirektde.csv\",index=False)\n",
    "df.info()\n",
    " "
   ]
  },
  {
   "attachments": {},
   "cell_type": "markdown",
   "metadata": {},
   "source": [
    "📁 Extract Job Title de"
   ]
  },
  {
   "cell_type": "code",
   "execution_count": null,
   "metadata": {},
   "outputs": [],
   "source": [
    "\n",
    "def job_title_de(row): \n",
    "    return eval(row[\"icontent\"])[\"title\"]\n",
    "\n",
    "df = pd.read_csv(rf\"{DATA_DIR}europade.csv\")\n",
    "df.inorup(with_func=job_title_de, description=\"job_title_de\")\n",
    "df.to_csv(rf\"{DATA_DIR}europade.csv\",index=False)"
   ]
  },
  {
   "attachments": {},
   "cell_type": "markdown",
   "metadata": {},
   "source": [
    "📁 Select positive Job Title de"
   ]
  },
  {
   "cell_type": "code",
   "execution_count": null,
   "metadata": {},
   "outputs": [],
   "source": [
    "df = pd.read_csv(rf\"{DATA_DIR}europade.csv\")\n",
    "df = df.select_positive(words=keywords)\n",
    "df.to_csv(rf\"{DATA_DIR}europade.csv\",index=False)"
   ]
  },
  {
   "attachments": {},
   "cell_type": "markdown",
   "metadata": {},
   "source": [
    "📁 Delete Negative Job Title de"
   ]
  },
  {
   "cell_type": "code",
   "execution_count": null,
   "metadata": {},
   "outputs": [],
   "source": [
    "df = pd.read_csv(rf\"{DATA_DIR}europade.csv\")\n",
    "df = df.delete_negative(words=bannedwords)\n",
    "df.to_csv(rf\"{DATA_DIR}europade.csv\",index=False)"
   ]
  },
  {
   "attachments": {},
   "cell_type": "markdown",
   "metadata": {},
   "source": [
    "📁 Get Company Name \"company_name\""
   ]
  },
  {
   "cell_type": "code",
   "execution_count": null,
   "metadata": {},
   "outputs": [],
   "source": [
    "def company_name(row):\n",
    "    return eval(row['icontent'])['employer']['name']\n",
    "\n",
    "df = pd.read_csv(rf\"{DATA_DIR}europade.csv\")\n",
    "df.inorup(with_func=company_name, description=\"company_name\")\n",
    "df.to_csv(rf\"{DATA_DIR}europade.csv\",index=False)"
   ]
  },
  {
   "cell_type": "markdown",
   "metadata": {},
   "source": [
    "📁 Drop duplicates base on \"company_name\" and \"job_title\""
   ]
  },
  {
   "cell_type": "code",
   "execution_count": null,
   "metadata": {},
   "outputs": [],
   "source": [
    "df = pd.read_csv(rf\"{DATA_DIR}europade.csv\")\n",
    "df = df.drop_duplicates(subset=['company_name','job_title_de'],keep='first')\n",
    "df.to_csv(rf\"{DATA_DIR}europade.csv\",index=False)"
   ]
  },
  {
   "cell_type": "markdown",
   "metadata": {},
   "source": [
    "📁 Extract Job Title EN \"job_title_en\""
   ]
  },
  {
   "cell_type": "code",
   "execution_count": null,
   "metadata": {},
   "outputs": [],
   "source": [
    "df = pd.read_csv(rf\"{DATA_DIR}europade.csv\")\n",
    "df['job_title_en'] = df['job_title_de']\n",
    "df.to_csv(rf\"{DATA_DIR}europade.csv\",index=False)"
   ]
  },
  {
   "attachments": {},
   "cell_type": "markdown",
   "metadata": {},
   "source": [
    "📁 Get Source url \"source_url\""
   ]
  },
  {
   "cell_type": "code",
   "execution_count": null,
   "metadata": {},
   "outputs": [],
   "source": [
    "def source_url(row):\n",
    "    jobid =  eval(row['icontent'])['id']\n",
    "    return f\"https://ec.europa.eu/eures/portal/jv-se/jv-details/{jobid}?jvDisplayLanguage=de&lang=en\"\n",
    "   \n",
    "df = pd.read_csv(rf\"{DATA_DIR}europade.csv\")\n",
    "df.inorup(with_func=source_url, description=\"source_url\")\n",
    "df.to_csv(rf\"{DATA_DIR}europade.csv\",index=False)"
   ]
  },
  {
   "cell_type": "markdown",
   "metadata": {},
   "source": [
    "📁 Get json Source url \"jsource_url\""
   ]
  },
  {
   "cell_type": "code",
   "execution_count": null,
   "metadata": {},
   "outputs": [],
   "source": [
    "def jsource_url(row):\n",
    "    jobid =  eval(row['icontent'])['id']\n",
    "    return f\"https://ec.europa.eu/eures/eures-apps/searchengine/page/jv/id/{jobid}?lang=en\"\n",
    "   \n",
    "df = pd.read_csv(rf\"{DATA_DIR}europade.csv\")\n",
    "df.inorup(with_func=jsource_url, description=\"jsource_url\")\n",
    "df.to_csv(rf\"{DATA_DIR}europade.csv\",index=False)"
   ]
  },
  {
   "attachments": {},
   "cell_type": "markdown",
   "metadata": {},
   "source": [
    "📁 Get Job Description DE \"job_description_de\""
   ]
  },
  {
   "cell_type": "code",
   "execution_count": null,
   "metadata": {},
   "outputs": [],
   "source": [
    "def job_description_de(row): \n",
    "    return eval(row[\"icontent\"])[\"description\"]\n",
    "    \n",
    "df = pd.read_csv(rf\"{DATA_DIR}europade.csv\")\n",
    "df.inorup(with_func=job_description_de, description=\"job_description_de\")\n",
    "df.to_csv(rf\"{DATA_DIR}europade.csv\",index=False)"
   ]
  },
  {
   "cell_type": "markdown",
   "metadata": {},
   "source": [
    "📁 Get Job Description EN \"job_description_en\""
   ]
  },
  {
   "cell_type": "code",
   "execution_count": null,
   "metadata": {},
   "outputs": [],
   "source": [
    "df = pd.read_csv(rf\"{DATA_DIR}europade.csv\")\n",
    "df['job_description_en'] = df['job_description_de']\n",
    "df.to_csv(rf\"{DATA_DIR}europade.csv\",index=False)"
   ]
  },
  {
   "attachments": {},
   "cell_type": "markdown",
   "metadata": {},
   "source": [
    "📁 Get employment_type \"job_employment_type\""
   ]
  },
  {
   "cell_type": "code",
   "execution_count": null,
   "metadata": {},
   "outputs": [],
   "source": [
    "def employment_type(row): \n",
    "    return eval(row['icontent'])['positionScheduleCodes'][0]\n",
    "     \n",
    "df = pd.read_csv(rf\"{DATA_DIR}europade.csv\")\n",
    "df.inorup(with_func=employment_type, description=\"employment_type\")\n",
    "df.to_csv(rf\"{DATA_DIR}europade.csv\",index=False)"
   ]
  },
  {
   "cell_type": "markdown",
   "metadata": {},
   "source": [
    "📁 Get Company Website \"company_website\""
   ]
  },
  {
   "cell_type": "code",
   "execution_count": null,
   "metadata": {},
   "outputs": [],
   "source": [
    "def company_website(row):\n",
    "    return eval(row['icontent'])['employer']['website']\n",
    "  \n",
    "df = pd.read_csv(rf\"{DATA_DIR}europade.csv\")\n",
    "df.inorup(with_func=company_website, description=\"company_website\")\n",
    "df.to_csv(rf\"{DATA_DIR}europade.csv\",index=False)"
   ]
  },
  {
   "cell_type": "markdown",
   "metadata": {},
   "source": [
    "📁 Get Get second page json content \"jcontent\""
   ]
  },
  {
   "cell_type": "code",
   "execution_count": null,
   "metadata": {},
   "outputs": [],
   "source": [
    "def jcontent(row):\n",
    "    time.sleep(random.randint(1,3))\n",
    "    response = requests.get(row[\"jsource_url\"])\n",
    "    return str(response.json())\n",
    " \n",
    "    \n",
    "df = pd.read_csv(rf\"{DATA_DIR}europade.csv\")\n",
    "df.inorup(with_func=jcontent,description=\"jcontent\")\n",
    "df.to_csv(rf\"{DATA_DIR}europade.csv\",index=False)\n",
    "df.to_csv(rf\"{DATA_DIR}europade_backup.csv\",index=False)"
   ]
  },
  {
   "cell_type": "markdown",
   "metadata": {},
   "source": [
    "📁 Get City \"city\""
   ]
  },
  {
   "cell_type": "code",
   "execution_count": null,
   "metadata": {},
   "outputs": [],
   "source": [
    "def city(row):\n",
    "    return eval(row['jcontent'])['jvProfiles']['de']['locations'][0]['cityName']\n",
    "  \n",
    "df = pd.read_csv(rf\"{DATA_DIR}europade.csv\")\n",
    "df.inorup(with_func=city, description=\"city\")\n",
    "df.to_csv(rf\"{DATA_DIR}europade.csv\",index=False)"
   ]
  },
  {
   "cell_type": "markdown",
   "metadata": {},
   "source": [
    "📁 Get Full Name \"full_name\""
   ]
  },
  {
   "cell_type": "code",
   "execution_count": null,
   "metadata": {},
   "outputs": [],
   "source": [
    "def full_name(row):\n",
    "    first_name = eval(row['jcontent'])['jvProfiles']['de']['personContacts'][0].get('givenName','')\n",
    "    last_name = eval(row['jcontent'])['jvProfiles']['de']['personContacts'][0].get('familyName','')\n",
    "    return f\"{first_name} {last_name}\"\n",
    "  \n",
    "df = pd.read_csv(rf\"{DATA_DIR}europade.csv\")\n",
    "df.inorup(with_func=full_name, description=\"full_name\")\n",
    "df.to_csv(rf\"{DATA_DIR}europade.csv\",index=False)"
   ]
  },
  {
   "cell_type": "markdown",
   "metadata": {},
   "source": [
    "📁 Get contact_email \"contact_email\""
   ]
  },
  {
   "cell_type": "code",
   "execution_count": null,
   "metadata": {},
   "outputs": [],
   "source": [
    "def contact_email(row):\n",
    "    email = emailaddress.from_text(text=row['job_description_de'])\n",
    "    if email:\n",
    "        return email[0]\n",
    "  \n",
    "df = pd.read_csv(rf\"{DATA_DIR}europade.csv\")\n",
    "df.inorup(with_func=contact_email, description=\"contact_email\")\n",
    "df.to_csv(rf\"{DATA_DIR}europade.csv\",index=False)\n",
    "df.info()"
   ]
  }
 ],
 "metadata": {
  "kernelspec": {
   "display_name": "datagenerator-JFVW2euX-py3.11",
   "language": "python",
   "name": "python3"
  },
  "language_info": {
   "codemirror_mode": {
    "name": "ipython",
    "version": 3
   },
   "file_extension": ".py",
   "mimetype": "text/x-python",
   "name": "python",
   "nbconvert_exporter": "python",
   "pygments_lexer": "ipython3",
   "version": "3.11.2"
  },
  "orig_nbformat": 4
 },
 "nbformat": 4,
 "nbformat_minor": 2
}
