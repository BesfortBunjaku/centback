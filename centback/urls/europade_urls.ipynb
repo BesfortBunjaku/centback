{
 "cells": [
  {
   "cell_type": "code",
   "execution_count": 1,
   "metadata": {},
   "outputs": [],
   "source": [
    "import pandas as pd\n",
    "\n",
    "keywords = pd.read_csv(r\"C:\\Users\\besff\\OneDrive\\Documents\\GitHub\\datagenerator\\datagenerator\\data\\keywords.csv\")\n",
    "\n",
    "\n",
    "url = \"https://ec.europa.eu/eures/eures-apps/searchengine/page/jv-search/search\"\n",
    "\n",
    "headers = {\n",
    "        \"Accept\": \"application/json, text/plain, */*\",\n",
    "        \"Accept-Encoding\": \"gzip, deflate, br\",\n",
    "        \"Accept-Language\": \"en-US,en-GB;q=0.9,en;q=0.8\",\n",
    "        \"Connection\": \"keep-alive\",\n",
    "        \"Content-Length\": \"454\",\n",
    "        \"Content-Type\": \"application/json\",\n",
    "        \"Cookie\": \"EURES_JVSE_SESSIONID=748BE70F61C39BAA714132220F7E7B7F; XSRF-TOKEN=cac11e1f-b14a-4565-91dd-38132202c770; _pk_ses.ba1b52b1-f8e5-42ec-93dc-088e1cd6d80f.1e93=*; _pk_id.ba1b52b1-f8e5-42ec-93dc-088e1cd6d80f.1e93=0511cc319fd824cd.1697909139.1.1697909348.1697909139.; cck1=%7B%22cm%22%3Afalse%2C%22all1st%22%3Afalse%2C%22closed%22%3Afalse%7D\",\n",
    "        \"Host\": \"ec.europa.eu\",\n",
    "        \"Origin\": \"https://ec.europa.eu\",\n",
    "        \"Referer\": \"https://ec.europa.eu/eures/portal/jv-se/search?page=3&resultsPerPage=50&orderBy=BEST_MATCH&locationCodes=de&lang=en\",\n",
    "        \"Sec-Ch-Ua\": \"\\\"Chromium\\\";v=\\\"118\\\", \\\"Google Chrome\\\";v=\\\"118\\\", \\\"Not=A?Brand\\\";v=\\\"99\\\"\",\n",
    "        \"Sec-Ch-Ua-Mobile\": \"?0\",\n",
    "        \"Sec-Ch-Ua-Platform\": \"Windows\",\n",
    "        \"Sec-Fetch-Dest\": \"empty\",\n",
    "        \"Sec-Fetch-Mode\": \"cors\",\n",
    "        \"Sec-Fetch-Site\": \"same-origin\",\n",
    "        \"User-Agent\": \"Mozilla/5.0 (Windows NT 10.0; Win64; x64) AppleWebKit/537.36 (KHTML, like Gecko) Chrome/118.0.0.0 Safari/537.36\",\n",
    "        \"X-Xsrf-Token\": \"cac11e1f-b14a-4565-91dd-38132202c770\"\n",
    "    }\n",
    "data ={\"keywords\":[{\"keyword\":'',\"specificSearchCode\":\"EVERYWHERE\"}],\"publicationPeriod\":None,\"occupationUris\":[],\"skillUris\":[],\"requiredExperienceCodes\":[],\"positionScheduleCodes\":[],\"sectorCodes\":[],\"availableLanguages\":[],\"educationLevelCodes\":[],\"positionOfferingCodes\":[],\"locationCodes\":[\"de\"],\"euresFlagCodes\":[],\"otherBenefitsCodes\":[],\"requiredLanguages\":[],\"resultsPerPage\":50,\"sortSearch\":\"BEST_MATCH\",\"page\":'{paginaton}',\"sessionId\":\"kno1z9v75o9ecvgyotpgvj\"}\n"
   ]
  },
  {
   "cell_type": "code",
   "execution_count": 2,
   "metadata": {},
   "outputs": [],
   "source": [
    "\n",
    "df = pd.DataFrame()\n",
    "df[\"url\"] = [url]\n",
    "df[\"headers\"] = [str(headers)]\n",
    "df[\"data\"] = [str(data)]\n",
    "df[\"pagination\"] = [range(1, 200)]\n",
    "df[\"keyword\"] = [keywords[\"general\"].dropna().tolist()]\n",
    "\n",
    "df = df.explode(\"keyword\")\n",
    "df = df.explode(\"pagination\")\n",
    " \n"
   ]
  },
  {
   "cell_type": "code",
   "execution_count": 3,
   "metadata": {},
   "outputs": [],
   "source": [
    "def replace_pagination(row):\n",
    "    try:\n",
    "        data = eval(row[\"data\"])\n",
    "        data[\"page\"] = row[\"pagination\"]\n",
    "        return str(data)\n",
    "    except:\n",
    "        return None\n",
    "\n",
    "df = df[df[\"pagination\"].notna()]\n",
    "df[\"pagination\"] = df[\"pagination\"].astype(int)\n",
    "df[\"data\"] = df.apply(replace_pagination, axis=1)\n"
   ]
  },
  {
   "cell_type": "code",
   "execution_count": 4,
   "metadata": {},
   "outputs": [],
   "source": [
    "def replace_keyword(row):\n",
    "    try:\n",
    "        data = eval(row[\"data\"])\n",
    "        data[\"keywords\"][0][\"keyword\"] = row[\"keyword\"]\n",
    "        return str(data)\n",
    "    except:\n",
    "        return None\n",
    "\n",
    "df = df[df[\"keyword\"].notna()]\n",
    " \n",
    "df[\"data\"] = df.apply(replace_keyword, axis=1)\n",
    "df.to_csv(\"europade_urls.csv\", index=False)"
   ]
  }
 ],
 "metadata": {
  "kernelspec": {
   "display_name": "urls-PemAvFG0-py3.11",
   "language": "python",
   "name": "python3"
  },
  "language_info": {
   "codemirror_mode": {
    "name": "ipython",
    "version": 3
   },
   "file_extension": ".py",
   "mimetype": "text/x-python",
   "name": "python",
   "nbconvert_exporter": "python",
   "pygments_lexer": "ipython3",
   "version": "3.11.2"
  },
  "orig_nbformat": 4
 },
 "nbformat": 4,
 "nbformat_minor": 2
}
