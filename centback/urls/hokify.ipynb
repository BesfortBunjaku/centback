{
 "cells": [
  {
   "cell_type": "code",
   "execution_count": null,
   "metadata": {},
   "outputs": [],
   "source": [
    "import pandas as pd\n",
    "import os\n",
    "import requests\n",
    "import time\n",
    "from tqdm.auto import tqdm\n",
    "from bs4 import BeautifulSoup\n",
    "\n",
    "\n",
    "keywords = pd.read_csv(r\"C:\\Users\\besff\\OneDrive\\Documents\\GitHub\\datagenerator\\datagenerator\\data\\keywords.csv\")"
   ]
  },
  {
   "cell_type": "code",
   "execution_count": null,
   "metadata": {},
   "outputs": [],
   "source": [
    "\n",
    "\n",
    "url = \"https://hokify.com/website-api/relations/list\"\n",
    "headers = {\n",
    "    \"Accept\": \"application/json, text/plain, */*\",\n",
    "    \"Accept-Encoding\": \"gzip, deflate, br\",\n",
    "    \"Accept-Language\": \"en-US,en-GB;q=0.9,en;q=0.8\",\n",
    "    \"Content-Length\": \"104\",\n",
    "    \"Content-Type\": \"application/json\",\n",
    "    \"Origin\": \"https://hokify.de\",\n",
    "    \"Referer\": \"https://hokify.de/\",\n",
    "    \"Sec-Ch-Ua\": '\"Not.A/Brand\";v=\"8\", \"Chromium\";v=\"114\", \"Google Chrome\";v=\"114\"',\n",
    "    \"Sec-Ch-Ua-Mobile\": \"?0\",\n",
    "    \"Sec-Ch-Ua-Platform\": '\"Windows\"',\n",
    "    \"Sec-Fetch-Dest\": \"empty\",\n",
    "    \"Sec-Fetch-Mode\": \"cors\",\n",
    "    \"Sec-Fetch-Site\": \"cross-site\",\n",
    "    \"User-Agent\": \"Mozilla/5.0 (Windows NT 10.0; Win64; x64) AppleWebKit/537.36 (KHTML, like Gecko) Chrome/114.0.0.0 Safari/537.36\",\n",
    "    \"X-Top-Level-Domain\": \"de\"\n",
    "}\n",
    "\n",
    "data = {\"branch\":\"{keyword}\",\"city\":\"\",\"filters\":[],\"isCompanyPage\":False,\"radius\":0,\"page\":\"{pagination}\",\"experimental\":None}\n",
    "\n",
    "df = pd.DataFrame()\n",
    "df[\"keyword\"] = keywords[\"general\"].dropna().tolist()\n",
    "df[\"category\"] = \"general\"\n",
    "df[\"url\"] =  url\n",
    "df[\"headers\"] = str(headers)\n",
    "df[\"data\"] = str(data)\n",
    "df"
   ]
  },
  {
   "cell_type": "code",
   "execution_count": null,
   "metadata": {},
   "outputs": [],
   "source": [
    "\n",
    "df[\"data\"] = df.apply(lambda row: row[\"data\"].replace(\"{keyword}\", row[\"keyword\"]), axis=1)\n",
    "df\n",
    "   \n"
   ]
  },
  {
   "cell_type": "code",
   "execution_count": 9,
   "metadata": {},
   "outputs": [],
   "source": [
    "def pagination(row):\n",
    "    try:\n",
    "        time.sleep(2)\n",
    "        url=row[\"url\"]\n",
    "        data = eval(row[\"data\"].replace(\"{pagination}\", '2'))\n",
    "        headers = eval(row[\"headers\"])\n",
    "        response  = requests.post(url, headers=headers, json=data, timeout=5)\n",
    "        end = response.json()[\"relationCount\"]\n",
    "        int_end = round(int(end)/15)\n",
    "        return [i for i in range(1, int_end)]\n",
    "    except:\n",
    "        return None\n",
    "\n",
    "try:\n",
    "    tqdm.pandas()\n",
    "    df[\"pagination\"] = df.progress_apply(pagination, axis=1)\n",
    "    list_columns = df.columns[df.applymap(lambda x: isinstance(x, list)).any()].tolist()\n",
    "    df = df[df[\"pagination\"].notna()]\n",
    "    df = df.explode(list_columns)\n",
    "finally:\n",
    "    df.to_csv(r\"C:\\Users\\besff\\OneDrive\\Documents\\GitHub\\datagenerator\\datagenerator\\url\\hokify.csv\", index=False)"
   ]
  },
  {
   "cell_type": "code",
   "execution_count": null,
   "metadata": {},
   "outputs": [],
   "source": [
    "def replace_pagination(row):\n",
    "       return row[\"data\"].replace(\"{pagination}\", str(row[\"pagination\"]))\n",
    "         \n",
    " \n",
    "\n",
    "\n",
    "df = pd.read_csv(r\"C:\\Users\\besff\\OneDrive\\Documents\\GitHub\\datagenerator\\datagenerator\\url\\hokify.csv\")\n",
    "df = df[df[\"pagination\"].notna()]\n",
    "df[\"pagination\"] = df[\"pagination\"].astype(int)\n",
    "df[\"data\"] = df.apply(replace_pagination, axis=1)\n",
    "df.to_csv(r\"C:\\Users\\besff\\OneDrive\\Documents\\GitHub\\datagenerator\\datagenerator\\url\\hokify1.csv\", index=False)"
   ]
  }
 ],
 "metadata": {
  "kernelspec": {
   "display_name": "urls-PemAvFG0-py3.11",
   "language": "python",
   "name": "python3"
  },
  "language_info": {
   "codemirror_mode": {
    "name": "ipython",
    "version": 3
   },
   "file_extension": ".py",
   "mimetype": "text/x-python",
   "name": "python",
   "nbconvert_exporter": "python",
   "pygments_lexer": "ipython3",
   "version": "3.11.2"
  },
  "orig_nbformat": 4
 },
 "nbformat": 4,
 "nbformat_minor": 2
}
