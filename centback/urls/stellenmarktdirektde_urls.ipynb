{
 "cells": [
  {
   "cell_type": "code",
   "execution_count": 16,
   "metadata": {},
   "outputs": [],
   "source": [
    "import pandas as pd\n",
    "\n",
    "\n",
    "url = \"https://www.stellenmarkt-direkt.de/jobs_find?page='{pagination}'\"\n",
    "\n",
    "headers = {\"User-Agent\": \"Mozilla/5.0 (Windows NT 10.0; Win64; x64) AppleWebKit/537.36 (KHTML, like Gecko) Chrome/118.0.0.0 Safari/537.36\"}\n",
    " "
   ]
  },
  {
   "cell_type": "code",
   "execution_count": 17,
   "metadata": {},
   "outputs": [],
   "source": [
    "\n",
    "df = pd.DataFrame()\n",
    "df[\"url\"] = [url]\n",
    "df[\"headers\"] = [str(headers)]\n",
    "df[\"pagination\"] = [range(1, 20000)]\n",
    "\n",
    "df = df.explode(\"pagination\")\n"
   ]
  },
  {
   "cell_type": "code",
   "execution_count": 18,
   "metadata": {},
   "outputs": [],
   "source": [
    "def replace_pagination(row):\n",
    "    return row[\"url\"].replace(\"'{pagination}'\", str(row[\"pagination\"]))\n",
    " \n",
    "df = df[df[\"pagination\"].notna()]\n",
    "df[\"url\"] = df.apply(replace_pagination, axis=1)\n",
    "df.to_csv(\"stellenmarktdirektde_urls.csv\", index=False)"
   ]
  }
 ],
 "metadata": {
  "kernelspec": {
   "display_name": "urls-PemAvFG0-py3.11",
   "language": "python",
   "name": "python3"
  },
  "language_info": {
   "codemirror_mode": {
    "name": "ipython",
    "version": 3
   },
   "file_extension": ".py",
   "mimetype": "text/x-python",
   "name": "python",
   "nbconvert_exporter": "python",
   "pygments_lexer": "ipython3",
   "version": "3.11.2"
  },
  "orig_nbformat": 4
 },
 "nbformat": 4,
 "nbformat_minor": 2
}
